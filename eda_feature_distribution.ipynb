{
    "cells": [{
            "cell_type": "code",
            "execution_count": 3,
            "id": "dc2fb0ea",
            "metadata": {},
            "outputs": [{
                "name": "stdout",
                "output_type": "stream",
                "text": [
                    "将要分析的特征文件是: features_20250709_113153.parquet\n"
                ]
            }],
            "source": [
                "import pandas as pd\n",
                "import os\n",
                "\n",
                "# %%\n",
                "# 因为这个notebook在experiment文件夹下，所以需要返回上一级目录\n",
                "FEATURE_DIR = './feature_dfs'\n",
                "files = [f for f in os.listdir(FEATURE_DIR) if f.endswith('.parquet')]\n",
                "files.sort()\n",
                "TARGET_FEATURE_FILE = files[-1]\n",
                "print(f\"将要分析的特征文件是: {TARGET_FEATURE_FILE}\")"
            ]
        },
        {
            "cell_type": "code",
            "execution_count": 5,
            "id": "2c0f64ea",
            "metadata": {},
            "outputs": [],
            "source": [
                "df = pd.read_parquet(os.path.join(FEATURE_DIR, TARGET_FEATURE_FILE))"
            ]
        },
        {
            "cell_type": "code",
            "execution_count": 9,
            "id": "ebf7f92c",
            "metadata": {},
            "outputs": [{
                    "name": "stdout",
                    "output_type": "stream",
                    "text": [
                        "原始特征数量: 123\n",
                        "筛选后特征数量: 2\n"
                    ]
                },
                {
                    "data": {
                        "text/html": [
                            "<div>\n",
                            "<style scoped>\n",
                            "    .dataframe tbody tr th:only-of-type {\n",
                            "        vertical-align: middle;\n",
                            "    }\n",
                            "\n",
                            "    .dataframe tbody tr th {\n",
                            "        vertical-align: top;\n",
                            "    }\n",
                            "\n",
                            "    .dataframe thead th {\n",
                            "        text-align: right;\n",
                            "    }\n",
                            "</style>\n",
                            "<table border=\"1\" class=\"dataframe\">\n",
                            "  <thead>\n",
                            "    <tr style=\"text-align: right;\">\n",
                            "      <th></th>\n",
                            "      <th>residuals_s1_pred_skew</th>\n",
                            "      <th>residuals_s1_pred_kurt</th>\n",
                            "    </tr>\n",
                            "    <tr>\n",
                            "      <th>id</th>\n",
                            "      <th></th>\n",
                            "      <th></th>\n",
                            "    </tr>\n",
                            "  </thead>\n",
                            "  <tbody>\n",
                            "    <tr>\n",
                            "      <th>6252</th>\n",
                            "      <td>1.634474</td>\n",
                            "      <td>17.967494</td>\n",
                            "    </tr>\n",
                            "    <tr>\n",
                            "      <th>4684</th>\n",
                            "      <td>-0.034484</td>\n",
                            "      <td>0.344284</td>\n",
                            "    </tr>\n",
                            "    <tr>\n",
                            "      <th>1731</th>\n",
                            "      <td>-0.156872</td>\n",
                            "      <td>1.965645</td>\n",
                            "    </tr>\n",
                            "    <tr>\n",
                            "      <th>4742</th>\n",
                            "      <td>0.495976</td>\n",
                            "      <td>4.829025</td>\n",
                            "    </tr>\n",
                            "    <tr>\n",
                            "      <th>4521</th>\n",
                            "      <td>-0.049039</td>\n",
                            "      <td>3.359528</td>\n",
                            "    </tr>\n",
                            "  </tbody>\n",
                            "</table>\n",
                            "</div>"
                        ],
                        "text/plain": [
                            "      residuals_s1_pred_skew  residuals_s1_pred_kurt\n",
                            "id                                                  \n",
                            "6252                1.634474               17.967494\n",
                            "4684               -0.034484                0.344284\n",
                            "1731               -0.156872                1.965645\n",
                            "4742                0.495976                4.829025\n",
                            "4521               -0.049039                3.359528"
                        ]
                    },
                    "metadata": {},
                    "output_type": "display_data"
                }
            ],
            "source": [
                "KEYWORD_PATTERN = r'residuals_s1'  # 添加^表示必须以ar_开头\n",
                "\n",
                "df_filtered = df\n",
                "if KEYWORD_PATTERN:\n",
                "    filtered_cols = df.filter(regex=KEYWORD_PATTERN, axis=1).columns.tolist()\n",
                "    \n",
                "    # 确保id和label列被包括进来，以便分析\n",
                "    # 如果有这些列的话\n",
                "    for col in ['id', 'label']:\n",
                "        if col in df.columns and col not in filtered_cols:\n",
                "            filtered_cols.insert(0, col)\n",
                "            \n",
                "    df_filtered = df[filtered_cols]\n",
                "\n",
                "print(f\"原始特征数量: {len(df.columns)}\")\n",
                "print(f\"筛选后特征数量: {len(df_filtered.columns)}\")\n",
                "display(df_filtered.head())"
            ]
        },
        {
            "cell_type": "code",
            "execution_count": null,
            "id": "22d37d65",
            "metadata": {},
            "outputs": [{
                "name": "stderr",
                "output_type": "stream",
                "text": [
                    "100%|██████████| 1/1 [00:00<00:00, 192.57it/s]<?, ?it/s, Describe variable: ar_predict_mse]\n",
                    "Summarize dataset: 100%|██████████| 10/10 [00:00<00:00, 82.17it/s, Completed]                \n",
                    "Generate report structure:   0%|          | 0/1 [00:00<?, ?it/s]"
                ]
            }],
            "source": [
                "# %%\n",
                "profile = ProfileReport(df_filtered, title=\"Pandas Profiling Report\", explorative=True)\n",
                "profile.to_notebook_iframe()"
            ]
        },
        {
            "cell_type": "code",
            "execution_count": null,
            "id": "09160d8d",
            "metadata": {},
            "outputs": [],
            "source": []
        }
    ],
    "metadata": {
        "language_info": {
            "name": "python",
            "kernelspec": {
                "display_name": "adia",
                "language": "python",
                "name": "python3"
            },
            "language_info": {
                "codemirror_mode": {
                    "name": "ipython",
                    "version": 3
                },
                "file_extension": ".py",
                "mimetype": "text/x-python",
                "name": "python",
                "nbconvert_exporter": "python",
                "pygments_lexer": "ipython3",
                "version": "3.11.12"
            }
        },
        "nbformat": 4,
        "nbformat_minor": 5
    }
}