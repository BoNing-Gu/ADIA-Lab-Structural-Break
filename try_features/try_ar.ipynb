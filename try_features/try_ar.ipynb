{
 "cells": [
  {
   "cell_type": "code",
   "execution_count": 1,
   "id": "80ff9563",
   "metadata": {},
   "outputs": [
    {
     "name": "stderr",
     "output_type": "stream",
     "text": [
      "d:\\anaconda3\\envs\\adia\\Lib\\site-packages\\tqdm\\auto.py:21: TqdmWarning: IProgress not found. Please update jupyter and ipywidgets. See https://ipywidgets.readthedocs.io/en/stable/user_install.html\n",
      "  from .autonotebook import tqdm as notebook_tqdm\n"
     ]
    }
   ],
   "source": [
    "import pandas as pd\n",
    "import numpy as np\n",
    "import scipy.stats\n",
    "from statsmodels.nonparametric.smoothers_lowess import lowess\n",
    "from statsmodels.tsa.ar_model import AutoReg\n",
    "from scipy.stats import theilslopes\n",
    "import lightgbm as lgb\n",
    "from sklearn.model_selection import StratifiedKFold\n",
    "from sklearn.metrics import roc_auc_score\n",
    "from joblib import Parallel, delayed\n",
    "from tqdm.auto import tqdm\n",
    "import logging\n",
    "import warnings\n",
    "warnings.filterwarnings('ignore')"
   ]
  },
  {
   "cell_type": "code",
   "execution_count": null,
   "id": "3258e1ac",
   "metadata": {},
   "outputs": [
    {
     "name": "stdout",
     "output_type": "stream",
     "text": [
      "Loading data...\n",
      "Data loaded.\n"
     ]
    }
   ],
   "source": [
    "# 1. read dataset\n",
    "print(\"Loading data...\")\n",
    "X_train = pd.read_parquet('../data/X_train.parquet')\n",
    "y_train = pd.read_parquet('../data/y_train.parquet')\n",
    "print(\"Data loaded.\")"
   ]
  },
  {
   "cell_type": "code",
   "execution_count": null,
   "id": "2b11e9b2",
   "metadata": {},
   "outputs": [],
   "source": [
    "# --- 7. 时间序列建模：比较period=0和1下的AR模型残差、AIC差异 ---\n",
    "# @feature\n",
    "def ar_model_residual_features(u: pd.DataFrame) -> dict:\n",
    "    s1 = u['value'][u['period'] == 0].reset_index(drop=True)\n",
    "    s2 = u['value'][u['period'] == 1].reset_index(drop=True)\n",
    "    feats = {}\n",
    "\n",
    "    def fit_ar(s, lags=10):\n",
    "        if len(s) <= lags + 1:\n",
    "            return None\n",
    "        try:\n",
    "            return AutoReg(s, lags=lags, old_names=False).fit()\n",
    "        except Exception:\n",
    "            return None\n",
    "\n",
    "    model1 = fit_ar(s1)\n",
    "    model2 = fit_ar(s2)\n",
    "\n",
    "    # 残差标准差 & AIC 差异\n",
    "    if model1 is not None and model2 is not None:\n",
    "        feats['ar_resid_std_diff'] = model2.resid.std() - model1.resid.std()\n",
    "        feats['ar_aic_diff'] = model2.aic - model1.aic\n",
    "    else:\n",
    "        feats['ar_resid_std_diff'] = 0.0\n",
    "        feats['ar_aic_diff'] = 0.0\n",
    "\n",
    "    # period=0 拟合后预测 period=1 前 len(s2) 步\n",
    "    if model1 is not None and len(s2) > 0:\n",
    "        try:\n",
    "            max_lag = max(model1.model.ar_lags)\n",
    "            # 获取 period=0 的尾部作为预测初值\n",
    "            history = s1.iloc[-max_lag:].tolist()\n",
    "            preds = []\n",
    "\n",
    "            for t in range(len(s2)):\n",
    "                lagged_vals = history[-max_lag:]\n",
    "                pred = model1.params['const'] if 'const' in model1.params else 0.0\n",
    "                for i, lag in enumerate(model1.model.ar_lags):\n",
    "                    pred += model1.params[f'value.L{lag}'] * lagged_vals[-lag]\n",
    "                preds.append(pred)\n",
    "                history.append(s2.iloc[t])  # 模拟滚动更新\n",
    "\n",
    "            preds = np.array(preds)\n",
    "            mse = np.mean((preds - s2.values[:len(preds)]) ** 2)\n",
    "            feats['ar_predict_mse'] = mse\n",
    "        except Exception as e:\n",
    "            print(f\"[WARN] Prediction error: {e}\")\n",
    "            feats['ar_predict_mse'] = 0.0\n",
    "    else:\n",
    "        feats['ar_predict_mse'] = 0.0\n",
    "\n",
    "    return {k: float(v) if not np.isnan(v) else 0 for k, v in feats.items()}"
   ]
  },
  {
   "cell_type": "code",
   "execution_count": null,
   "id": "2edd49c6",
   "metadata": {},
   "outputs": [
    {
     "name": "stdout",
     "output_type": "stream",
     "text": [
      "Index(['const', 'value.L1', 'value.L2', 'value.L3', 'value.L4', 'value.L5',\n",
      "       'value.L6', 'value.L7', 'value.L8', 'value.L9', 'value.L10'],\n",
      "      dtype='object')\n",
      "[1, 2, 3, 4, 5, 6, 7, 8, 9, 10]\n",
      "[-0.0021371704055048336, 0.0034444812357458145, -0.0007959912346892023, -0.00649693911808705, -0.005802325676278576, 0.003705333221070089, 0.006672214155667655, 0.0027958016406231757, 0.009656475695492998, 0.006687728106747254]\n"
     ]
    }
   ],
   "source": [
    "u = X_train.loc[0]\n",
    "s1 = u['value'][u['period'] == 0].reset_index(drop=True)\n",
    "s2 = u['value'][u['period'] == 1].reset_index(drop=True)\n",
    "feats = {}\n",
    "\n",
    "def fit_ar(s, lags=10):\n",
    "    if len(s) <= lags + 1:\n",
    "        return None\n",
    "    try:\n",
    "        return AutoReg(s, lags=lags, old_names=False).fit()\n",
    "    except Exception:\n",
    "        return None\n",
    "\n",
    "model1 = fit_ar(s1)\n",
    "model2 = fit_ar(s2)\n",
    "print(model1.params.index)\n",
    "print(model1.model.ar_lags)\n",
    "\n",
    "# 残差标准差 & AIC 差异\n",
    "if model1 is not None and model2 is not None:\n",
    "    feats['ar_resid_std_diff'] = model2.resid.std() - model1.resid.std()\n",
    "    feats['ar_aic_diff'] = model2.aic - model1.aic\n",
    "else:\n",
    "    feats['ar_resid_std_diff'] = 0.0\n",
    "    feats['ar_aic_diff'] = 0.0\n",
    "\n",
    "# period=0 拟合后预测 period=1 前 len(s2) 步\n",
    "if model1 is not None and len(s2) > 0:\n",
    "    max_lag = max(model1.model.ar_lags)\n",
    "    # 获取 period=0 的尾部作为预测初值\n",
    "    history = s1.iloc[-max_lag:].tolist()\n",
    "    print(history)\n",
    "    preds = []\n",
    "\n",
    "    for t in range(len(s2)):\n",
    "        lagged_vals = history[-max_lag:]\n",
    "        pred = model1.params['const'] if 'const' in model1.params else 0.0\n",
    "        for i, lag in enumerate(model1.model.ar_lags):\n",
    "            pred += model1.params[f'value.L{lag}'] * lagged_vals[-lag]\n",
    "        preds.append(pred)\n",
    "        history.append(s2.iloc[t])  # 模拟滚动更新\n",
    "\n",
    "    preds = np.array(preds)\n",
    "    mse = np.mean((preds - s2.values[:len(preds)]) ** 2)\n",
    "    feats['ar_predict_mse'] = mse"
   ]
  },
  {
   "cell_type": "code",
   "execution_count": 19,
   "id": "87215c7a",
   "metadata": {},
   "outputs": [
    {
     "name": "stdout",
     "output_type": "stream",
     "text": [
      "{'ar_resid_std_diff': -0.00031172340251863374, 'ar_aic_diff': 7587.785153685026, 'ar_predict_mse': 4.68083510340371e-05}\n",
      "structural_breakpoint    False\n",
      "Name: 0, dtype: bool\n",
      "{'ar_resid_std_diff': -0.0005283595784692581, 'ar_aic_diff': 17830.922671242755, 'ar_predict_mse': 4.176902626786393e-06}\n",
      "structural_breakpoint    False\n",
      "Name: 1, dtype: bool\n",
      "{'ar_resid_std_diff': 0.005127777010880911, 'ar_aic_diff': 9907.481308450015, 'ar_predict_mse': 0.000525254776250473}\n",
      "structural_breakpoint    True\n",
      "Name: 2, dtype: bool\n",
      "{'ar_resid_std_diff': 0.0009047255387457775, 'ar_aic_diff': 11181.509177588478, 'ar_predict_mse': 8.609038147388063e-05}\n",
      "structural_breakpoint    False\n",
      "Name: 3, dtype: bool\n",
      "{'ar_resid_std_diff': 1.5165275062545367e-05, 'ar_aic_diff': 10722.561050052082, 'ar_predict_mse': 1.1594036510249491e-05}\n",
      "structural_breakpoint    False\n",
      "Name: 4, dtype: bool\n",
      "{'ar_resid_std_diff': -0.0002536319162173596, 'ar_aic_diff': 3423.2176698377243, 'ar_predict_mse': 0.0003467299248636689}\n",
      "structural_breakpoint    False\n",
      "Name: 5, dtype: bool\n",
      "{'ar_resid_std_diff': -0.0006406131768330967, 'ar_aic_diff': 3795.583867874285, 'ar_predict_mse': 7.72764405349279e-05}\n",
      "structural_breakpoint    True\n",
      "Name: 6, dtype: bool\n",
      "{'ar_resid_std_diff': -0.008527643215102618, 'ar_aic_diff': 3642.037440972301, 'ar_predict_mse': 0.0012836227326974343}\n",
      "structural_breakpoint    False\n",
      "Name: 7, dtype: bool\n",
      "{'ar_resid_std_diff': -0.0005074399325590671, 'ar_aic_diff': 15325.313577746392, 'ar_predict_mse': 9.408047451005113e-07}\n",
      "structural_breakpoint    False\n",
      "Name: 8, dtype: bool\n",
      "{'ar_resid_std_diff': -0.0037637547196841016, 'ar_aic_diff': 7317.430996759715, 'ar_predict_mse': 0.0002579264311020183}\n",
      "structural_breakpoint    False\n",
      "Name: 9, dtype: bool\n",
      "{'ar_resid_std_diff': -0.0002540608459116871, 'ar_aic_diff': 19049.831231325094, 'ar_predict_mse': 2.8278443674209456e-07}\n",
      "structural_breakpoint    False\n",
      "Name: 10, dtype: bool\n",
      "{'ar_resid_std_diff': -0.00493228246703159, 'ar_aic_diff': 2262.4311282623457, 'ar_predict_mse': 0.00038731402552809677}\n",
      "structural_breakpoint    False\n",
      "Name: 11, dtype: bool\n",
      "{'ar_resid_std_diff': -0.004320435162273007, 'ar_aic_diff': 868.6029467150438, 'ar_predict_mse': 0.00021368887045096824}\n",
      "structural_breakpoint    False\n",
      "Name: 12, dtype: bool\n",
      "{'ar_resid_std_diff': -0.0006219522426216314, 'ar_aic_diff': 8331.313322042497, 'ar_predict_mse': 0.00015805821206843387}\n",
      "structural_breakpoint    True\n",
      "Name: 13, dtype: bool\n",
      "{'ar_resid_std_diff': -0.0060573322445212595, 'ar_aic_diff': 6208.128432292606, 'ar_predict_mse': 0.00041789363398397927}\n",
      "structural_breakpoint    False\n",
      "Name: 14, dtype: bool\n"
     ]
    }
   ],
   "source": [
    "for idx in range(15):\n",
    "    feats = ar_model_residual_features(X_train.loc[idx])\n",
    "    print(feats)\n",
    "    print(y_train.loc[idx])"
   ]
  }
 ],
 "metadata": {
  "kernelspec": {
   "display_name": "adia",
   "language": "python",
   "name": "python3"
  },
  "language_info": {
   "codemirror_mode": {
    "name": "ipython",
    "version": 3
   },
   "file_extension": ".py",
   "mimetype": "text/x-python",
   "name": "python",
   "nbconvert_exporter": "python",
   "pygments_lexer": "ipython3",
   "version": "3.11.12"
  }
 },
 "nbformat": 4,
 "nbformat_minor": 5
}
