{
 "cells": [
  {
   "cell_type": "code",
   "execution_count": 1,
   "id": "80ff9563",
   "metadata": {},
   "outputs": [
    {
     "name": "stderr",
     "output_type": "stream",
     "text": [
      "d:\\anaconda3\\envs\\adia\\Lib\\site-packages\\tqdm\\auto.py:21: TqdmWarning: IProgress not found. Please update jupyter and ipywidgets. See https://ipywidgets.readthedocs.io/en/stable/user_install.html\n",
      "  from .autonotebook import tqdm as notebook_tqdm\n"
     ]
    }
   ],
   "source": [
    "import pandas as pd\n",
    "import numpy as np\n",
    "import scipy.stats\n",
    "from statsmodels.nonparametric.smoothers_lowess import lowess\n",
    "from statsmodels.tsa.ar_model import AutoReg\n",
    "from scipy.stats import theilslopes\n",
    "import lightgbm as lgb\n",
    "from sklearn.model_selection import StratifiedKFold\n",
    "from sklearn.metrics import roc_auc_score\n",
    "from joblib import Parallel, delayed\n",
    "from tqdm.auto import tqdm\n",
    "import logging\n",
    "import warnings\n",
    "warnings.filterwarnings('ignore')"
   ]
  },
  {
   "cell_type": "code",
   "execution_count": null,
   "id": "3258e1ac",
   "metadata": {},
   "outputs": [
    {
     "name": "stdout",
     "output_type": "stream",
     "text": [
      "Loading data...\n",
      "Data loaded.\n"
     ]
    }
   ],
   "source": [
    "# 1. read dataset\n",
    "print(\"Loading data...\")\n",
    "X_train = pd.read_parquet('../data/X_train.parquet')\n",
    "y_train = pd.read_parquet('../data/y_train.parquet')\n",
    "print(\"Data loaded.\")"
   ]
  },
  {
   "cell_type": "code",
   "execution_count": 3,
   "id": "feab8878",
   "metadata": {},
   "outputs": [],
   "source": [
    "import ruptures as rpt"
   ]
  },
  {
   "cell_type": "code",
   "execution_count": null,
   "id": "2b11e9b2",
   "metadata": {},
   "outputs": [],
   "source": [
    "# --- 8. change point detection with ruptures ---\n",
    "# @feature\n",
    "def ruptures_dynp_feature(u: pd.DataFrame) -> dict:\n",
    "    \"\"\"使用Ruptures的Dynp检测器计算最显著断点位置与中点的差异\"\"\"\n",
    "    signal = u['value'].to_numpy()\n",
    "    # print(signal)\n",
    "    n = len(signal)\n",
    "    # print(n)\n",
    "    feats = {}\n",
    "\n",
    "    try:\n",
    "        n_bkps = 1\n",
    "        model = rpt.Dynp(model=\"l2\", min_size=np.sum(u['period'] == 1), jump=1).fit(signal)\n",
    "        bkps = model.predict(n_bkps=n_bkps)  # 只找1个断点\n",
    "        # print(bkps)\n",
    "        \n",
    "        # print(cp)\n",
    "        middle = np.sum(u['period'] == 0)\n",
    "        # print(middle)\n",
    "        for i in range(n_bkps):\n",
    "            cp = bkps[i] if bkps else n\n",
    "            feats[f'dynp_cp_distance_{i}'] = abs(cp - middle) / n  # 归一化后的变点位置偏移\n",
    "    except Exception as e:\n",
    "        # print(f\"Error occurred: {e}\")\n",
    "        feats['dynp_cp_distance'] = 1.0  # 最大偏移\n",
    "\n",
    "    return feats"
   ]
  },
  {
   "cell_type": "code",
   "execution_count": 13,
   "id": "67dc546e",
   "metadata": {},
   "outputs": [],
   "source": [
    "# @feature\n",
    "def ruptures_pelt_feature(u: pd.DataFrame) -> dict:\n",
    "    \"\"\"使用Ruptures的Pelt检测器计算变点位置与boundary的差异\"\"\"\n",
    "    signal = u['value'].to_numpy()\n",
    "    # n = len(signal)\n",
    "    feats = {}\n",
    "\n",
    "    try:\n",
    "        pen = 3\n",
    "        model = rpt.Pelt(model=\"l2\", min_size=np.sum(u['period'] == 1)-88, jump=1).fit(signal)\n",
    "        bkps = model.predict(pen=pen)\n",
    "        boundary = np.sum(u['period'] == 0)\n",
    "        for i, cp in enumerate(bkps):\n",
    "            feats[f'pelt_cp_distance_{i}'] = cp - boundary #/ n\n",
    "    except Exception as e:\n",
    "        feats['pelt_cp_distance_0'] = 1.0\n",
    "\n",
    "    return feats"
   ]
  },
  {
   "cell_type": "code",
   "execution_count": 14,
   "id": "87215c7a",
   "metadata": {},
   "outputs": [
    {
     "name": "stdout",
     "output_type": "stream",
     "text": [
      "{'pelt_cp_distance_0': np.int64(294)}\n",
      "structural_breakpoint    False\n",
      "Name: 0, dtype: bool\n",
      "{'pelt_cp_distance_0': np.int64(282)}\n",
      "structural_breakpoint    False\n",
      "Name: 1, dtype: bool\n",
      "{'pelt_cp_distance_0': np.int64(515)}\n",
      "structural_breakpoint    True\n",
      "Name: 2, dtype: bool\n",
      "{'pelt_cp_distance_0': np.int64(629)}\n",
      "structural_breakpoint    False\n",
      "Name: 3, dtype: bool\n",
      "{'pelt_cp_distance_0': np.int64(456)}\n",
      "structural_breakpoint    False\n",
      "Name: 4, dtype: bool\n",
      "{'pelt_cp_distance_0': np.int64(682)}\n",
      "structural_breakpoint    False\n",
      "Name: 5, dtype: bool\n",
      "{'pelt_cp_distance_0': np.int64(968)}\n",
      "structural_breakpoint    True\n",
      "Name: 6, dtype: bool\n",
      "{'pelt_cp_distance_0': np.int64(751)}\n",
      "structural_breakpoint    False\n",
      "Name: 7, dtype: bool\n",
      "{'pelt_cp_distance_0': np.int64(302)}\n",
      "structural_breakpoint    False\n",
      "Name: 8, dtype: bool\n",
      "{'pelt_cp_distance_0': np.int64(754)}\n",
      "structural_breakpoint    False\n",
      "Name: 9, dtype: bool\n",
      "{'pelt_cp_distance_0': np.int64(410)}\n",
      "structural_breakpoint    False\n",
      "Name: 10, dtype: bool\n",
      "{'pelt_cp_distance_0': np.int64(922)}\n",
      "structural_breakpoint    False\n",
      "Name: 11, dtype: bool\n",
      "{'pelt_cp_distance_0': np.int64(881)}\n",
      "structural_breakpoint    False\n",
      "Name: 12, dtype: bool\n",
      "{'pelt_cp_distance_0': np.int64(965)}\n",
      "structural_breakpoint    True\n",
      "Name: 13, dtype: bool\n",
      "{'pelt_cp_distance_0': np.int64(535)}\n",
      "structural_breakpoint    False\n",
      "Name: 14, dtype: bool\n"
     ]
    }
   ],
   "source": [
    "for idx in range(15):\n",
    "    feats = ruptures_pelt_feature(X_train.loc[idx])\n",
    "    print(feats)\n",
    "    print(y_train.loc[idx])"
   ]
  }
 ],
 "metadata": {
  "kernelspec": {
   "display_name": "adia",
   "language": "python",
   "name": "python3"
  },
  "language_info": {
   "codemirror_mode": {
    "name": "ipython",
    "version": 3
   },
   "file_extension": ".py",
   "mimetype": "text/x-python",
   "name": "python",
   "nbconvert_exporter": "python",
   "pygments_lexer": "ipython3",
   "version": "3.11.12"
  }
 },
 "nbformat": 4,
 "nbformat_minor": 5
}
