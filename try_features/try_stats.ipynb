{
 "cells": [
  {
   "cell_type": "code",
   "execution_count": 1,
   "id": "80ff9563",
   "metadata": {},
   "outputs": [
    {
     "name": "stderr",
     "output_type": "stream",
     "text": [
      "d:\\anaconda3\\envs\\adia\\Lib\\site-packages\\tqdm\\auto.py:21: TqdmWarning: IProgress not found. Please update jupyter and ipywidgets. See https://ipywidgets.readthedocs.io/en/stable/user_install.html\n",
      "  from .autonotebook import tqdm as notebook_tqdm\n"
     ]
    }
   ],
   "source": [
    "import pandas as pd\n",
    "import numpy as np\n",
    "import scipy.stats\n",
    "import statsmodels as sm\n",
    "import antropy\n",
    "\n",
    "import lightgbm as lgb\n",
    "from sklearn.model_selection import StratifiedKFold\n",
    "from sklearn.metrics import roc_auc_score\n",
    "\n",
    "from joblib import Parallel, delayed\n",
    "from tqdm.auto import tqdm\n",
    "import logging\n",
    "import warnings\n",
    "warnings.filterwarnings('ignore')"
   ]
  },
  {
   "cell_type": "code",
   "execution_count": 8,
   "id": "62dd1893",
   "metadata": {},
   "outputs": [],
   "source": [
    "import statsmodels.tsa.api as tsa"
   ]
  },
  {
   "cell_type": "code",
   "execution_count": 3,
   "id": "3258e1ac",
   "metadata": {},
   "outputs": [
    {
     "name": "stdout",
     "output_type": "stream",
     "text": [
      "Loading data...\n",
      "Data loaded.\n"
     ]
    }
   ],
   "source": [
    "# 1. read dataset\n",
    "print(\"Loading data...\")\n",
    "X_train = pd.read_parquet('../data/X_train.parquet')\n",
    "y_train = pd.read_parquet('../data/y_train.parquet')\n",
    "print(\"Data loaded.\")"
   ]
  },
  {
   "cell_type": "code",
   "execution_count": null,
   "id": "2b11e9b2",
   "metadata": {},
   "outputs": [],
   "source": [
    "# --- 1. 分布统计特征-更新 ---\n",
    "# @feature\n",
    "def more_distributional_stats(u: pd.DataFrame) -> dict:\n",
    "    s1 = u['value'][u['period'] == 0]\n",
    "    s2 = u['value'][u['period'] == 1]\n",
    "    feats = {}\n",
    "    \n",
    "    # Mann-Whitney U检验（非参数版的t检验）\n",
    "    mw_stat, mw_pvalue = scipy.stats.mannwhitneyu(s1, s2, alternative='two-sided')\n",
    "    feats['mw_pvalue'] = -mw_pvalue if not np.isnan(mw_pvalue) else 0\n",
    "\n",
    "    # Wilcoxon符号秩检验（适用于配对样本）\n",
    "    w_stat, w_pvalue = scipy.stats.wilcoxon(s1[-len(s2):], s2)\n",
    "    feats['w_pvalue'] = -w_pvalue if not np.isnan(w_pvalue) else 0\n",
    "\n",
    "    # 方差齐性检验（Levene's test）\n",
    "    lev_stat, lev_pvalue = scipy.stats.levene(s1, s2)\n",
    "    feats['lev_pvalue'] = -lev_pvalue if not np.isnan(lev_pvalue) else 0\n",
    "\n",
    "    # 自相关特征\n",
    "    def autocorr_features(s, max_lag=5):\n",
    "        return {f'acf_lag_{i}': tsa.stattools.acf(s, nlags=i)[-1] for i in range(1, max_lag+1)}\n",
    "    feats.update({f'acf1_{k}': v for k, v in autocorr_features(s1).items()})\n",
    "    feats.update({f'acf2_{k}': v for k, v in autocorr_features(s2).items()})\n",
    "    print(feats)\n",
    "    feats['acf_diff'] = feats['acf2_acf_lag_1'] - feats['acf1_acf_lag_1']\n",
    "\n",
    "    # 单位根检验（平稳性检验）\n",
    "    adf1 = tsa.adfuller(s1)[1]\n",
    "    adf2 = tsa.adfuller(s2)[1]\n",
    "    feats['adf_diff'] = adf2 - adf1\n",
    "\n",
    "    # 分位数比较\n",
    "    for q in [0.1, 0.25, 0.5, 0.75, 0.9]:\n",
    "        feats[f'q{q}_diff'] = s2.quantile(q) - s1.quantile(q)\n",
    "\n",
    "    # 异常值检测\n",
    "    def outlier_ratio(s, threshold=3):\n",
    "        z = np.abs(scipy.stats.zscore(s))\n",
    "        return np.mean(z > threshold)\n",
    "    feats['outlier_ratio_diff'] = outlier_ratio(s2) - outlier_ratio(s1)\n",
    "\n",
    "    return {k: float(v) if not np.isnan(v) else 0 for k, v in feats.items()}"
   ]
  },
  {
   "cell_type": "code",
   "execution_count": 13,
   "id": "87215c7a",
   "metadata": {},
   "outputs": [
    {
     "name": "stdout",
     "output_type": "stream",
     "text": [
      "{'mw_pvalue': np.float64(-0.9919468956184949), 'w_pvalue': np.float64(-0.8459257251469343), 'lev_pvalue': np.float64(-0.7580245444471796), 'acf1_acf_lag_1': np.float64(-0.15594736318987157), 'acf1_acf_lag_2': np.float64(-0.1255051731969833), 'acf1_acf_lag_3': np.float64(-0.04874564371686685), 'acf1_acf_lag_4': np.float64(-0.03239862325422635), 'acf1_acf_lag_5': np.float64(-0.06347647784805939), 'acf2_acf_lag_1': np.float64(-0.09180233405573138), 'acf2_acf_lag_2': np.float64(-0.06164797360083063), 'acf2_acf_lag_3': np.float64(-0.09556167360062365), 'acf2_acf_lag_4': np.float64(-0.11136261276715236), 'acf2_acf_lag_5': np.float64(-0.06916865253729489)}\n"
     ]
    },
    {
     "ename": "AttributeError",
     "evalue": "module 'statsmodels.tsa.statespace.tools' has no attribute 'cusum_squares'",
     "output_type": "error",
     "traceback": [
      "\u001b[31m---------------------------------------------------------------------------\u001b[39m",
      "\u001b[31mAttributeError\u001b[39m                            Traceback (most recent call last)",
      "\u001b[36mCell\u001b[39m\u001b[36m \u001b[39m\u001b[32mIn[13]\u001b[39m\u001b[32m, line 2\u001b[39m\n\u001b[32m      1\u001b[39m \u001b[38;5;28;01mfor\u001b[39;00m idx \u001b[38;5;129;01min\u001b[39;00m \u001b[38;5;28mrange\u001b[39m(\u001b[32m15\u001b[39m):\n\u001b[32m----> \u001b[39m\u001b[32m2\u001b[39m     feats = \u001b[43mmore_distributional_stats\u001b[49m\u001b[43m(\u001b[49m\u001b[43mX_train\u001b[49m\u001b[43m.\u001b[49m\u001b[43mloc\u001b[49m\u001b[43m[\u001b[49m\u001b[43midx\u001b[49m\u001b[43m]\u001b[49m\u001b[43m)\u001b[49m\n\u001b[32m      3\u001b[39m     \u001b[38;5;28mprint\u001b[39m(feats)\n\u001b[32m      4\u001b[39m     \u001b[38;5;28mprint\u001b[39m(y_train.loc[idx])\n",
      "\u001b[36mCell\u001b[39m\u001b[36m \u001b[39m\u001b[32mIn[12]\u001b[39m\u001b[32m, line 39\u001b[39m, in \u001b[36mmore_distributional_stats\u001b[39m\u001b[34m(u)\u001b[39m\n\u001b[32m     37\u001b[39m \u001b[38;5;66;03m# CUSUM检验（累积和检验）\u001b[39;00m\n\u001b[32m     38\u001b[39m combined = np.concatenate([s1, s2])\n\u001b[32m---> \u001b[39m\u001b[32m39\u001b[39m cusum = \u001b[43mtsa\u001b[49m\u001b[43m.\u001b[49m\u001b[43mstatespace\u001b[49m\u001b[43m.\u001b[49m\u001b[43mtools\u001b[49m\u001b[43m.\u001b[49m\u001b[43mcusum_squares\u001b[49m(combined)\n\u001b[32m     40\u001b[39m feats[\u001b[33m'\u001b[39m\u001b[33mcusum_max\u001b[39m\u001b[33m'\u001b[39m] = np.max(np.abs(cusum))\n\u001b[32m     42\u001b[39m \u001b[38;5;66;03m# 异常值检测\u001b[39;00m\n",
      "\u001b[31mAttributeError\u001b[39m: module 'statsmodels.tsa.statespace.tools' has no attribute 'cusum_squares'"
     ]
    }
   ],
   "source": [
    "for idx in range(15):\n",
    "    feats = more_distributional_stats(X_train.loc[idx])\n",
    "    print(feats)\n",
    "    print(y_train.loc[idx])"
   ]
  }
 ],
 "metadata": {
  "kernelspec": {
   "display_name": "adia",
   "language": "python",
   "name": "python3"
  },
  "language_info": {
   "codemirror_mode": {
    "name": "ipython",
    "version": 3
   },
   "file_extension": ".py",
   "mimetype": "text/x-python",
   "name": "python",
   "nbconvert_exporter": "python",
   "pygments_lexer": "ipython3",
   "version": "3.11.12"
  }
 },
 "nbformat": 4,
 "nbformat_minor": 5
}
