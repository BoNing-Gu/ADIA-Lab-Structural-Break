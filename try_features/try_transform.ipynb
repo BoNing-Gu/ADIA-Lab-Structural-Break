{
 "cells": [
  {
   "cell_type": "code",
   "execution_count": null,
   "id": "80ff9563",
   "metadata": {},
   "outputs": [
    {
     "name": "stderr",
     "output_type": "stream",
     "text": [
      "d:\\anaconda3\\envs\\adia\\Lib\\site-packages\\tqdm\\auto.py:21: TqdmWarning: IProgress not found. Please update jupyter and ipywidgets. See https://ipywidgets.readthedocs.io/en/stable/user_install.html\n",
      "  from .autonotebook import tqdm as notebook_tqdm\n"
     ]
    }
   ],
   "source": [
    "import pandas as pd\n",
    "import numpy as np\n",
    "import scipy.stats\n",
    "from statsmodels.nonparametric.smoothers_lowess import lowess\n",
    "from statsmodels.tsa.ar_model import AutoReg\n",
    "from scipy.stats import theilslopes\n",
    "import lightgbm as lgb\n",
    "from sklearn.model_selection import StratifiedKFold\n",
    "from sklearn.metrics import roc_auc_score\n",
    "from joblib import Parallel, delayed\n",
    "from tqdm.auto import tqdm\n",
    "import logging\n",
    "import warnings\n",
    "warnings.filterwarnings('ignore')"
   ]
  },
  {
   "cell_type": "code",
   "execution_count": null,
   "id": "3258e1ac",
   "metadata": {},
   "outputs": [
    {
     "name": "stdout",
     "output_type": "stream",
     "text": [
      "Loading data...\n",
      "Data loaded.\n"
     ]
    }
   ],
   "source": [
    "# 1. read dataset\n",
    "print(\"Loading data...\")\n",
    "X_train = pd.read_parquet('../data/X_train.parquet')\n",
    "y_train = pd.read_parquet('../data/y_train.parquet')\n",
    "print(\"Data loaded.\")"
   ]
  },
  {
   "cell_type": "code",
   "execution_count": 6,
   "id": "2538652e",
   "metadata": {},
   "outputs": [],
   "source": [
    "import pywt"
   ]
  },
  {
   "cell_type": "code",
   "execution_count": 7,
   "id": "eb80ee92",
   "metadata": {},
   "outputs": [],
   "source": [
    "# @feature\n",
    "def stft_features(u: pd.DataFrame) -> dict:\n",
    "    \"\"\"特征提取：基于 STFT 比较两个周期局部频率能量差异\"\"\"\n",
    "    s1 = u['value'][u['period'] == 0].to_numpy()\n",
    "    s2 = u['value'][u['period'] == 1].to_numpy()\n",
    "    feats = {}\n",
    "\n",
    "    def get_stft_energy(signal):\n",
    "        if len(signal) < 4:\n",
    "            return 0\n",
    "        f, t, Zxx = scipy.signal.stft(signal, nperseg=min(len(signal), 64))\n",
    "        energy = np.abs(Zxx) ** 2\n",
    "        return np.sum(energy)\n",
    "\n",
    "    try:\n",
    "        e1 = get_stft_energy(s1)\n",
    "        e2 = get_stft_energy(s2)\n",
    "        feats['stft_energy_diff'] = e2 - e1\n",
    "        feats['stft_energy_ratio'] = e2 / (e1 + 1e-6)\n",
    "    except:\n",
    "        feats['stft_energy_diff'] = 0\n",
    "        feats['stft_energy_ratio'] = 1\n",
    "\n",
    "    return {k: float(v) if not np.isnan(v) else 0 for k, v in feats.items()}\n",
    "\n",
    "# @feature\n",
    "def wavelet_features(u: pd.DataFrame) -> dict:\n",
    "    \"\"\"特征提取：基于小波分解能量的前后周期差异\"\"\"\n",
    "    s1 = u['value'][u['period'] == 0].to_numpy()\n",
    "    s2 = u['value'][u['period'] == 1].to_numpy()\n",
    "    feats = {}\n",
    "\n",
    "    def wavelet_energy(signal, wavelet='db2', level=2):\n",
    "        if len(signal) < 4:\n",
    "            return 0, 0\n",
    "        coeffs = pywt.wavedec(signal, wavelet, level=level)\n",
    "        approx_energy = np.sum(np.square(coeffs[0]))  # Approximation coeffs\n",
    "        detail_energy = sum(np.sum(np.square(c)) for c in coeffs[1:])  # Detail coeffs\n",
    "        return approx_energy, detail_energy\n",
    "\n",
    "    try:\n",
    "        a1, d1 = wavelet_energy(s1)\n",
    "        a2, d2 = wavelet_energy(s2)\n",
    "\n",
    "        feats['wavelet_approx_energy_diff'] = a2 - a1\n",
    "        feats['wavelet_detail_energy_diff'] = d2 - d1\n",
    "        feats['wavelet_energy_ratio'] = (a2 + d2) / (a1 + d1 + 1e-6)\n",
    "    except:\n",
    "        feats['wavelet_approx_energy_diff'] = 0\n",
    "        feats['wavelet_detail_energy_diff'] = 0\n",
    "        feats['wavelet_energy_ratio'] = 1\n",
    "\n",
    "    return {k: float(v) if not np.isnan(v) else 0 for k, v in feats.items()}\n"
   ]
  },
  {
   "cell_type": "code",
   "execution_count": 8,
   "id": "87215c7a",
   "metadata": {},
   "outputs": [
    {
     "name": "stdout",
     "output_type": "stream",
     "text": [
      "{'wavelet_approx_energy_diff': -0.006383498584625189, 'wavelet_detail_energy_diff': -0.04511156845154803, 'wavelet_energy_ratio': 0.2217095318599085}\n",
      "structural_breakpoint    False\n",
      "Name: 0, dtype: bool\n",
      "{'wavelet_approx_energy_diff': -0.003571552984657197, 'wavelet_detail_energy_diff': -0.009618177013221756, 'wavelet_energy_ratio': 0.08187908356240722}\n",
      "structural_breakpoint    False\n",
      "Name: 1, dtype: bool\n",
      "{'wavelet_approx_energy_diff': -0.09000022461104912, 'wavelet_detail_energy_diff': -0.3313058260279748, 'wavelet_energy_ratio': 0.3929492333778162}\n",
      "structural_breakpoint    True\n",
      "Name: 2, dtype: bool\n",
      "{'wavelet_approx_energy_diff': -0.024666217581779976, 'wavelet_detail_energy_diff': -0.08492856011343104, 'wavelet_energy_ratio': 0.33112258844764514}\n",
      "structural_breakpoint    False\n",
      "Name: 3, dtype: bool\n",
      "{'wavelet_approx_energy_diff': -0.007531739927623777, 'wavelet_detail_energy_diff': -0.005416813616362368, 'wavelet_energy_ratio': 0.2906499916979219}\n",
      "structural_breakpoint    False\n",
      "Name: 4, dtype: bool\n",
      "{'wavelet_approx_energy_diff': -0.06427976684004483, 'wavelet_detail_energy_diff': -0.17739574474866993, 'wavelet_energy_ratio': 0.4965220712900044}\n",
      "structural_breakpoint    False\n",
      "Name: 5, dtype: bool\n",
      "{'wavelet_approx_energy_diff': -0.020581461870760816, 'wavelet_detail_energy_diff': -0.04669150063838018, 'wavelet_energy_ratio': 0.5267658769883918}\n",
      "structural_breakpoint    True\n",
      "Name: 6, dtype: bool\n",
      "{'wavelet_approx_energy_diff': -0.5590360193064393, 'wavelet_detail_energy_diff': -2.017025351506735, 'wavelet_energy_ratio': 0.27663474527891596}\n",
      "structural_breakpoint    False\n",
      "Name: 7, dtype: bool\n",
      "{'wavelet_approx_energy_diff': -0.0011436681308989482, 'wavelet_detail_energy_diff': -0.0027494838620763557, 'wavelet_energy_ratio': 0.06943241764096873}\n",
      "structural_breakpoint    False\n",
      "Name: 8, dtype: bool\n",
      "{'wavelet_approx_energy_diff': -0.1845783320469081, 'wavelet_detail_energy_diff': -0.5064852368905901, 'wavelet_energy_ratio': 0.22025336586254565}\n",
      "structural_breakpoint    False\n",
      "Name: 9, dtype: bool\n",
      "{'wavelet_approx_energy_diff': -0.00031276932903524264, 'wavelet_detail_energy_diff': -0.0008656912618955751, 'wavelet_energy_ratio': 0.0889515090666793}\n",
      "structural_breakpoint    False\n",
      "Name: 10, dtype: bool\n",
      "{'wavelet_approx_energy_diff': -0.10246553720246149, 'wavelet_detail_energy_diff': -0.46235272096403185, 'wavelet_energy_ratio': 0.3865803749251083}\n",
      "structural_breakpoint    False\n",
      "Name: 11, dtype: bool\n",
      "{'wavelet_approx_energy_diff': -0.04575378044125052, 'wavelet_detail_energy_diff': -0.175853840165447, 'wavelet_energy_ratio': 0.46259973746993244}\n",
      "structural_breakpoint    False\n",
      "Name: 12, dtype: bool\n",
      "{'wavelet_approx_energy_diff': -0.05951070867491798, 'wavelet_detail_energy_diff': -0.20216113648639428, 'wavelet_energy_ratio': 0.372501449019177}\n",
      "structural_breakpoint    True\n",
      "Name: 13, dtype: bool\n",
      "{'wavelet_approx_energy_diff': -0.24996234681179075, 'wavelet_detail_energy_diff': -0.8465642709521344, 'wavelet_energy_ratio': 0.16998623776887786}\n",
      "structural_breakpoint    False\n",
      "Name: 14, dtype: bool\n"
     ]
    }
   ],
   "source": [
    "for idx in range(15):\n",
    "    feats = wavelet_features(X_train.loc[idx])\n",
    "    print(feats)\n",
    "    print(y_train.loc[idx])"
   ]
  }
 ],
 "metadata": {
  "kernelspec": {
   "display_name": "adia",
   "language": "python",
   "name": "python3"
  },
  "language_info": {
   "codemirror_mode": {
    "name": "ipython",
    "version": 3
   },
   "file_extension": ".py",
   "mimetype": "text/x-python",
   "name": "python",
   "nbconvert_exporter": "python",
   "pygments_lexer": "ipython3",
   "version": "3.11.12"
  }
 },
 "nbformat": 4,
 "nbformat_minor": 5
}
