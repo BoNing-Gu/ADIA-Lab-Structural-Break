{
 "cells": [
  {
   "cell_type": "code",
   "execution_count": null,
   "id": "80ff9563",
   "metadata": {},
   "outputs": [],
   "source": [
    "import pandas as pd\n",
    "import numpy as np\n",
    "import scipy.stats\n",
    "import statsmodels as sm\n",
    "import statsmodels.tsa.api as tsa\n",
    "import antropy\n",
    "\n",
    "import lightgbm as lgb\n",
    "from sklearn.model_selection import StratifiedKFold\n",
    "from sklearn.metrics import roc_auc_score\n",
    "\n",
    "import os\n",
    "from joblib import Parallel, delayed\n",
    "from tqdm.auto import tqdm\n",
    "import logging\n",
    "import warnings\n",
    "warnings.filterwarnings('ignore')\n",
    "import matplotlib.pyplot as plt"
   ]
  },
  {
   "cell_type": "code",
   "execution_count": null,
   "id": "3258e1ac",
   "metadata": {},
   "outputs": [],
   "source": [
    "# 1. read dataset\n",
    "print(\"Loading data...\")\n",
    "X_train = pd.read_parquet('../data/X_train.parquet')\n",
    "y_train = pd.read_parquet('../data/y_train.parquet')\n",
    "print(\"Data loaded.\")"
   ]
  },
  {
   "cell_type": "code",
   "execution_count": null,
   "id": "95609c5c",
   "metadata": {},
   "outputs": [],
   "source": [
    "y_train"
   ]
  },
  {
   "cell_type": "code",
   "execution_count": null,
   "id": "d61b9945",
   "metadata": {},
   "outputs": [],
   "source": [
    "extracted_path = '../feature_dfs/features-tsfresh_autoextract.parquet'\n",
    "if os.path.exists(extracted_path):\n",
    "    extracted_features = pd.read_parquet(extracted_path)\n",
    "    print(f\"Loaded existing extracted features: {extracted_features.shape}\")"
   ]
  },
  {
   "cell_type": "code",
   "execution_count": null,
   "id": "f8aef046",
   "metadata": {},
   "outputs": [],
   "source": [
    "extracted_features"
   ]
  },
  {
   "cell_type": "code",
   "execution_count": null,
   "id": "8d009487",
   "metadata": {},
   "outputs": [],
   "source": [
    "def compute_period_diff_features(extracted_features: pd.DataFrame) -> pd.DataFrame:\n",
    "    df = extracted_features.copy().reset_index()\n",
    "    df[['raw_id', 'period']] = df['index'].str.extract(r'^(.*)_(\\d)$')\n",
    "    df['raw_id'] = df['raw_id'].astype(int)\n",
    "    df['period'] = df['period'].astype(int)\n",
    "\n",
    "    # 分 period\n",
    "    df_0 = df[df['period'] == 0].drop(columns=['period', 'index'])\n",
    "    df_1 = df[df['period'] == 1].drop(columns=['period', 'index'])\n",
    "\n",
    "    # 设置 raw_id 为索引\n",
    "    df_0.set_index('raw_id', inplace=True)\n",
    "    df_1.set_index('raw_id', inplace=True)\n",
    "\n",
    "    # 差值\n",
    "    diff_df = df_1.subtract(df_0)\n",
    "    diff_df.sort_index(inplace=True)\n",
    "    return diff_df\n",
    "\n",
    "diff_features = compute_period_diff_features(extracted_features)\n",
    "print(diff_features.shape)"
   ]
  },
  {
   "cell_type": "code",
   "execution_count": null,
   "id": "970a293b",
   "metadata": {},
   "outputs": [],
   "source": [
    "from tsfresh import select_features\n",
    "from tsfresh.utilities.dataframe_functions import impute\n",
    "\n",
    "impute(extracted_features)\n",
    "features_filtered = select_features(extracted_features, y_train)"
   ]
  }
 ],
 "metadata": {
  "kernelspec": {
   "display_name": "Python 3",
   "language": "python",
   "name": "python3"
  },
  "language_info": {
   "codemirror_mode": {
    "name": "ipython",
    "version": 3
   },
   "file_extension": ".py",
   "mimetype": "text/x-python",
   "name": "python",
   "nbconvert_exporter": "python",
   "pygments_lexer": "ipython3",
   "version": "3.11.13"
  }
 },
 "nbformat": 4,
 "nbformat_minor": 5
}
